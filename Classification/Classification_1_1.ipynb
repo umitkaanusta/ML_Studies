{
 "cells": [
  {
   "cell_type": "markdown",
   "metadata": {},
   "source": [
    "## Classification\n",
    "\n",
    "- Categorizing some unknown items into a discrete set of categories or \"classes\"\n",
    "- Target is a categorical variable\n",
    "- Determines the class label for an unlabeled test case\n",
    "- A sample classification problem: Detecting whether an email is spam by looking at the text"
   ]
  },
  {
   "cell_type": "markdown",
   "metadata": {},
   "source": [
    "### K-Nearest Neighbors (KNN)\n",
    "- **Classifies cases based on their similarity to other cases.**\n",
    "- Assume we are going to classify customers and we have the nth customer, with their \"class\" being unknown.\n",
    "\n",
    "#### How does it work?\n",
    "- Pick a value for K.\n",
    "- Calculate the distance of unknown case from all cases\n",
    "- Select the K observations in the training data that are \"nearest\" to the unknown data point.\n",
    "- Predict the response of the unknown data point, using the most popular response from the K-nearest neighbors.\n",
    "\n",
    "#### How to find the similarity?\n",
    "- Having n features, we use a specific form of Minkowski Distance:\n",
    "- Dis(x1,x2) = Root(for x1, x2 in range n: add (x1_i - x2_i) ** 2) - this shows the distance\n",
    "\n",
    "#### Choosing the right K value\n",
    "- A low K value causes overfitting while a high one causes overfitting\n",
    "- Choose a K value and iteratively increase it, then compare the accuracy scores.\n",
    "- The value that gives you the highest accuracy is the most suitable K value"
   ]
  },
  {
   "cell_type": "markdown",
   "metadata": {},
   "source": [
    "### Evaluation Metrics in Classification\n",
    "\n",
    "#### Jaccard Index (Jaccard Similarity Coefficient)\n",
    "- y: Actual labels\n",
    "- Y: Predicted labels\n",
    "- J(y, Y) = (y and Y) / (y or Y)\n",
    "\n",
    "#### F1 Score (Usage in Binary Classification)\n",
    "- Let's assume there are two classes: 0 and 1.\n",
    "- We can create a confusion matrix: \n",
    "    - [(Predicted_1, Actual_1) (Predicted_1, Actual_0) (Predicted_0, Actual_1) (Predicted_0, Actual_0)]\n",
    "- P1-A1: True Positives, P1-A0: False Positives, P0-A1: False Negatives, P0-A0: True Negatives\n",
    "- **Precision = TP/(TP + FP)**\n",
    "- **Recall = TP / (TP + FN)**\n",
    "- **F1-Score = 2(prc * rec)/(prc + rec)** (Harmonic avg of precision and recall)\n",
    "\n",
    "#### Log Loss\n",
    "- Sometimes the outcome of classification can be a probability - like in Logistic Regression.\n",
    "- In that case, Y is between 0 and 1. Here is the formula:\n",
    "- **LogLoss = Average of: - (y * log(Y) + (1 - y) * (log(1 - Y))**"
   ]
  }
 ],
 "metadata": {
  "kernelspec": {
   "display_name": "Python 3",
   "language": "python",
   "name": "python3"
  },
  "language_info": {
   "codemirror_mode": {
    "name": "ipython",
    "version": 3
   },
   "file_extension": ".py",
   "mimetype": "text/x-python",
   "name": "python",
   "nbconvert_exporter": "python",
   "pygments_lexer": "ipython3",
   "version": "3.7.3"
  }
 },
 "nbformat": 4,
 "nbformat_minor": 2
}
