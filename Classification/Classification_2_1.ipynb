{
 "cells": [
  {
   "cell_type": "markdown",
   "metadata": {},
   "source": [
    "## Decision Trees\n",
    "\n",
    "Scenario: Given the categorical values Age, Sex and Cholesterol; we will decide which drug to use (Drug A or Drug B)\n",
    "\n",
    "**Decision trees are built by splitting the data set into distinct nodes**\n",
    "\n",
    "![Decision Tree](tree.png)"
   ]
  },
  {
   "cell_type": "markdown",
   "metadata": {},
   "source": [
    "### How can we build a Decision Tree?\n",
    "- Choose an attribute from the data set\n",
    "- Calculate the significance of attribute\n",
    "- Split data based on the value of the best attribute\n",
    "- Do this over and over"
   ]
  },
  {
   "cell_type": "markdown",
   "metadata": {},
   "source": [
    "## Finding the best attribute\n",
    "- DTrees are built by recursive partitioning\n",
    "- Let's say we have 14 patients in our data set, responding to Drug A or Drug B\n",
    "\n",
    "\n",
    "#### In that case, let's say we pick Cholesterol as the first attribute to split data.\n",
    "- High Cholesterol: 3 Drug A, 5 Drug B\n",
    "- Normal Cholesterol: 2 Drug A, 4 Drug B\n",
    "- Cholesterol alone is not a good split, so let's choose another attribute\n",
    "\n",
    "\n",
    "#### Let's say we pick Sex this time\n",
    "- Female: 1 Drug A, 7 Drug B\n",
    "- Male: 4 Drug A, 2 Drug B\n",
    "- This shows that the Sex attribute is more Significant then Cholesterol\n",
    "- **More Predictive, less Impure, lower Entropy**\n",
    "- Male + High Cholesterol: 4 Drug A\n",
    "- Male + Normal Cholesterol: 2 Drug B\n",
    "- **Since we have pure nodes (just one class)  in further splittings, looks like a better decision**"
   ]
  },
  {
   "cell_type": "markdown",
   "metadata": {},
   "source": [
    "### Metrics for DTrees\n",
    "\n",
    "- **Entropy:** Measure of Randomness or uncertainity, Low entropy indicates high uniformity\n",
    "    - 8 Drug A and 0 Drug B: **Entropy is zero**\n",
    "    - 4 Drug A and 4 Drug B: **Entropy is one**\n",
    "    - **Formula:** -p(A) * log(p(A)) - p(B) * log(p(B))\n",
    "    \n",
    "    \n",
    "- **Information Gain:** Info that can increase the level of certainty after splitting\n",
    "    - Gain(s, Sex) = Entropy_before - WeightedEntropy_after\n",
    "    - Weight: Number of samples in the node / Number of samples in the parent node\n",
    "    - The attribute with the higher info gain is better ofc"
   ]
  }
 ],
 "metadata": {
  "kernelspec": {
   "display_name": "Python 3",
   "language": "python",
   "name": "python3"
  },
  "language_info": {
   "codemirror_mode": {
    "name": "ipython",
    "version": 3
   },
   "file_extension": ".py",
   "mimetype": "text/x-python",
   "name": "python",
   "nbconvert_exporter": "python",
   "pygments_lexer": "ipython3",
   "version": "3.7.3"
  }
 },
 "nbformat": 4,
 "nbformat_minor": 2
}
