{
 "cells": [
  {
   "cell_type": "markdown",
   "metadata": {},
   "source": [
    "# Hierarchical Clustering\n",
    "- Builds a hierarchy of clusters where each node is a cluster consists of the clusters of its daughter nodes.\n",
    "- Divisive: Start with all observations, then break it into smaller pieces\n",
    "- Agglomerative: Each observation starts with their own cluster, clusters are progressively paired **(opposite of divisive)**\n",
    "- **Agglomerative approach is more popular**\n",
    "\n",
    "### Agglomerative Clustering\n",
    "- Create n clusters, one for each data point\n",
    "- Compute the Proximity Matrix\n",
    "- **Iteratively do until a single cluster remains:**\n",
    "    - Merge the two closest clusters\n",
    "    - Update the Proximity Matrix"
   ]
  },
  {
   "cell_type": "markdown",
   "metadata": {},
   "source": [
    "### Finding Distance between Clusters\n",
    "- Each cluster has usually more than one data point, so how to find distance?\n",
    "1. **Single-Linkage Clustering:** Min distance between clusters\n",
    "2. **Complete-Linkage Clustering:** Max distance between clusters\n",
    "3. **Average Linkage Clustering:** Avg distance between clusters\n",
    "4. **Centroid Linkage Clustering:** Distance between the centroids\n",
    "    - Centroid: Average data point of each cluster\n",
    "\n",
    "### Advantages & Disadvantages\n",
    "- **Advantages:**\n",
    "    - No need to specify the number of clusters\n",
    "    - Easy to implement\n",
    "    - Produces a dendrogram, which helps with understanding the data\n",
    "- **Disadvantages:**\n",
    "    - Can never undo any previous steps throughout the algorithm\n",
    "    - Generally has long runtimes\n",
    "    - Difficult to identify the number of clusters by the dendrogram"
   ]
  },
  {
   "cell_type": "markdown",
   "metadata": {},
   "source": [
    "![dendrogram](dendrogram.PNG)"
   ]
  }
 ],
 "metadata": {
  "kernelspec": {
   "display_name": "Python 3",
   "language": "python",
   "name": "python3"
  },
  "language_info": {
   "codemirror_mode": {
    "name": "ipython",
    "version": 3
   },
   "file_extension": ".py",
   "mimetype": "text/x-python",
   "name": "python",
   "nbconvert_exporter": "python",
   "pygments_lexer": "ipython3",
   "version": "3.7.3"
  }
 },
 "nbformat": 4,
 "nbformat_minor": 2
}
