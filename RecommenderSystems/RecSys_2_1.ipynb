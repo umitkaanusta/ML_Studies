{
 "cells": [
  {
   "cell_type": "markdown",
   "metadata": {},
   "source": [
    "## Collaborative Filtering\n",
    "\n",
    "- Relationships exist between products and user interests\n",
    "- Collaborative filtering tries to find these relationships\n",
    "- **User-based filtering**:\n",
    "    - Based on users neighborhood\n",
    "- **Item-based filtering**:\n",
    "    - Based on items' similarity\n"
   ]
  },
  {
   "cell_type": "markdown",
   "metadata": {},
   "source": [
    "### User-based Filtering\n",
    "- If user A likes x1, x2 and x3, user B who is close to user A might like a movie in the set [x1, x2, x3]\n",
    "- If user B likes x4 and user A hasn't watched it, then the systems recommends x4 for user A.\n",
    "\n",
    "#### User-ratings Matrix"
   ]
  },
  {
   "cell_type": "code",
   "execution_count": 1,
   "metadata": {},
   "outputs": [
    {
     "data": {
      "text/html": [
       "<div>\n",
       "<style scoped>\n",
       "    .dataframe tbody tr th:only-of-type {\n",
       "        vertical-align: middle;\n",
       "    }\n",
       "\n",
       "    .dataframe tbody tr th {\n",
       "        vertical-align: top;\n",
       "    }\n",
       "\n",
       "    .dataframe thead th {\n",
       "        text-align: right;\n",
       "    }\n",
       "</style>\n",
       "<table border=\"1\" class=\"dataframe\">\n",
       "  <thead>\n",
       "    <tr style=\"text-align: right;\">\n",
       "      <th></th>\n",
       "      <th>user</th>\n",
       "      <th>m1</th>\n",
       "      <th>m2</th>\n",
       "      <th>m3</th>\n",
       "      <th>m4</th>\n",
       "      <th>m5</th>\n",
       "    </tr>\n",
       "  </thead>\n",
       "  <tbody>\n",
       "    <tr>\n",
       "      <th>0</th>\n",
       "      <td>u1</td>\n",
       "      <td>9.0</td>\n",
       "      <td>6</td>\n",
       "      <td>8.0</td>\n",
       "      <td>4.0</td>\n",
       "      <td>NaN</td>\n",
       "    </tr>\n",
       "    <tr>\n",
       "      <th>1</th>\n",
       "      <td>u2</td>\n",
       "      <td>2.0</td>\n",
       "      <td>10</td>\n",
       "      <td>6.0</td>\n",
       "      <td>NaN</td>\n",
       "      <td>8.0</td>\n",
       "    </tr>\n",
       "    <tr>\n",
       "      <th>2</th>\n",
       "      <td>u3</td>\n",
       "      <td>5.0</td>\n",
       "      <td>9</td>\n",
       "      <td>NaN</td>\n",
       "      <td>10.0</td>\n",
       "      <td>7.0</td>\n",
       "    </tr>\n",
       "    <tr>\n",
       "      <th>3</th>\n",
       "      <td>ActiveUser</td>\n",
       "      <td>NaN</td>\n",
       "      <td>10</td>\n",
       "      <td>7.0</td>\n",
       "      <td>8.0</td>\n",
       "      <td>NaN</td>\n",
       "    </tr>\n",
       "  </tbody>\n",
       "</table>\n",
       "</div>"
      ],
      "text/plain": [
       "         user   m1  m2   m3    m4   m5\n",
       "0          u1  9.0   6  8.0   4.0  NaN\n",
       "1          u2  2.0  10  6.0   NaN  8.0\n",
       "2          u3  5.0   9  NaN  10.0  7.0\n",
       "3  ActiveUser  NaN  10  7.0   8.0  NaN"
      ]
     },
     "execution_count": 1,
     "metadata": {},
     "output_type": "execute_result"
    }
   ],
   "source": [
    "import numpy as np\n",
    "import pandas as pd\n",
    "\n",
    "ratings_dict = {\n",
    "    \"user\": [\"u1\", \"u2\", \"u3\", \"ActiveUser\"],\n",
    "    \"m1\": [9, 2, 5, np.nan],\n",
    "    \"m2\": [6, 10, 9, 10],\n",
    "    \"m3\": [8, 6, np.nan, 7],\n",
    "    \"m4\": [4, np.nan, 10, 8],\n",
    "    \"m5\": [np.nan, 8, 7, np.nan]\n",
    "}\n",
    "\n",
    "## ActiveUser hasn't watched m1 and m5. How can we know whether to recommend m1 and m5 to the ActiveUser?\n",
    "\n",
    "df = pd.DataFrame(ratings_dict)\n",
    "df"
   ]
  },
  {
   "cell_type": "markdown",
   "metadata": {},
   "source": [
    "### Calculating Similarity\n",
    "- To calculate the level of similarity between two users, find movies they both rated\n",
    "- Let's assume that AU-u1 similarity is 0.4, AU-u2 similarity is 0.9 and AU-u3 similarity is 0.7\n",
    "- Then the **Weighted Ratings Matrix** for m1 and m5 is:"
   ]
  },
  {
   "cell_type": "code",
   "execution_count": 2,
   "metadata": {},
   "outputs": [
    {
     "data": {
      "text/html": [
       "<div>\n",
       "<style scoped>\n",
       "    .dataframe tbody tr th:only-of-type {\n",
       "        vertical-align: middle;\n",
       "    }\n",
       "\n",
       "    .dataframe tbody tr th {\n",
       "        vertical-align: top;\n",
       "    }\n",
       "\n",
       "    .dataframe thead th {\n",
       "        text-align: right;\n",
       "    }\n",
       "</style>\n",
       "<table border=\"1\" class=\"dataframe\">\n",
       "  <thead>\n",
       "    <tr style=\"text-align: right;\">\n",
       "      <th></th>\n",
       "      <th>user</th>\n",
       "      <th>m1</th>\n",
       "      <th>m5</th>\n",
       "    </tr>\n",
       "  </thead>\n",
       "  <tbody>\n",
       "    <tr>\n",
       "      <th>0</th>\n",
       "      <td>u1</td>\n",
       "      <td>9.0</td>\n",
       "      <td>NaN</td>\n",
       "    </tr>\n",
       "    <tr>\n",
       "      <th>1</th>\n",
       "      <td>u2</td>\n",
       "      <td>2.0</td>\n",
       "      <td>8.0</td>\n",
       "    </tr>\n",
       "    <tr>\n",
       "      <th>2</th>\n",
       "      <td>u3</td>\n",
       "      <td>5.0</td>\n",
       "      <td>7.0</td>\n",
       "    </tr>\n",
       "  </tbody>\n",
       "</table>\n",
       "</div>"
      ],
      "text/plain": [
       "  user   m1   m5\n",
       "0   u1  9.0  NaN\n",
       "1   u2  2.0  8.0\n",
       "2   u3  5.0  7.0"
      ]
     },
     "execution_count": 2,
     "metadata": {},
     "output_type": "execute_result"
    }
   ],
   "source": [
    "df = df[[\"user\", \"m1\", \"m5\"]]\n",
    "df = df.iloc[:-1]\n",
    "df"
   ]
  },
  {
   "cell_type": "code",
   "execution_count": 4,
   "metadata": {},
   "outputs": [
    {
     "data": {
      "text/html": [
       "<div>\n",
       "<style scoped>\n",
       "    .dataframe tbody tr th:only-of-type {\n",
       "        vertical-align: middle;\n",
       "    }\n",
       "\n",
       "    .dataframe tbody tr th {\n",
       "        vertical-align: top;\n",
       "    }\n",
       "\n",
       "    .dataframe thead th {\n",
       "        text-align: right;\n",
       "    }\n",
       "</style>\n",
       "<table border=\"1\" class=\"dataframe\">\n",
       "  <thead>\n",
       "    <tr style=\"text-align: right;\">\n",
       "      <th></th>\n",
       "      <th>user</th>\n",
       "      <th>m1</th>\n",
       "      <th>m5</th>\n",
       "    </tr>\n",
       "  </thead>\n",
       "  <tbody>\n",
       "    <tr>\n",
       "      <th>0</th>\n",
       "      <td>u1</td>\n",
       "      <td>3.6</td>\n",
       "      <td>NaN</td>\n",
       "    </tr>\n",
       "    <tr>\n",
       "      <th>1</th>\n",
       "      <td>u2</td>\n",
       "      <td>1.8</td>\n",
       "      <td>7.2</td>\n",
       "    </tr>\n",
       "    <tr>\n",
       "      <th>2</th>\n",
       "      <td>u3</td>\n",
       "      <td>3.5</td>\n",
       "      <td>4.9</td>\n",
       "    </tr>\n",
       "  </tbody>\n",
       "</table>\n",
       "</div>"
      ],
      "text/plain": [
       "  user   m1   m5\n",
       "0   u1  3.6  NaN\n",
       "1   u2  1.8  7.2\n",
       "2   u3  3.5  4.9"
      ]
     },
     "execution_count": 4,
     "metadata": {},
     "output_type": "execute_result"
    }
   ],
   "source": [
    "weighted_df = df\n",
    "# Multiplying the rows with similarity\n",
    "weighted_df[\"m1\"] = [3.6, 1.8, 3.5]\n",
    "weighted_df[\"m5\"] = [np.nan, 7.2, 4.9]\n",
    "weighted_df"
   ]
  },
  {
   "cell_type": "code",
   "execution_count": 8,
   "metadata": {},
   "outputs": [
    {
     "data": {
      "text/html": [
       "<div>\n",
       "<style scoped>\n",
       "    .dataframe tbody tr th:only-of-type {\n",
       "        vertical-align: middle;\n",
       "    }\n",
       "\n",
       "    .dataframe tbody tr th {\n",
       "        vertical-align: top;\n",
       "    }\n",
       "\n",
       "    .dataframe thead th {\n",
       "        text-align: right;\n",
       "    }\n",
       "</style>\n",
       "<table border=\"1\" class=\"dataframe\">\n",
       "  <thead>\n",
       "    <tr style=\"text-align: right;\">\n",
       "      <th></th>\n",
       "      <th>rated_by</th>\n",
       "      <th>m1</th>\n",
       "      <th>m5</th>\n",
       "      <th>weight_sum</th>\n",
       "    </tr>\n",
       "  </thead>\n",
       "  <tbody>\n",
       "    <tr>\n",
       "      <th>0</th>\n",
       "      <td>[u1, u2, u3]</td>\n",
       "      <td>8.9</td>\n",
       "      <td>NaN</td>\n",
       "      <td>2.0</td>\n",
       "    </tr>\n",
       "    <tr>\n",
       "      <th>1</th>\n",
       "      <td>[u2, u3]</td>\n",
       "      <td>NaN</td>\n",
       "      <td>12.1</td>\n",
       "      <td>1.6</td>\n",
       "    </tr>\n",
       "  </tbody>\n",
       "</table>\n",
       "</div>"
      ],
      "text/plain": [
       "       rated_by   m1    m5  weight_sum\n",
       "0  [u1, u2, u3]  8.9   NaN         2.0\n",
       "1      [u2, u3]  NaN  12.1         1.6"
      ]
     },
     "execution_count": 8,
     "metadata": {},
     "output_type": "execute_result"
    }
   ],
   "source": [
    "## Now let's add up all these ratings:\n",
    "sum_dict = {\n",
    "    \"rated_by\": [[\"u1\", \"u2\", \"u3\"], [\"u2\", \"u3\"]],\n",
    "    \"m1\": [8.9, np.nan],\n",
    "    \"m5\": [np.nan, 12.1],\n",
    "    \"weight_sum\": [2, 1.6] # sum of the similarities of users rated this movie\n",
    "}\n",
    "\n",
    "sum_similarity_index = pd.DataFrame(sum_dict)\n",
    "sum_similarity_index"
   ]
  },
  {
   "cell_type": "code",
   "execution_count": 13,
   "metadata": {},
   "outputs": [
    {
     "data": {
      "text/html": [
       "<div>\n",
       "<style scoped>\n",
       "    .dataframe tbody tr th:only-of-type {\n",
       "        vertical-align: middle;\n",
       "    }\n",
       "\n",
       "    .dataframe tbody tr th {\n",
       "        vertical-align: top;\n",
       "    }\n",
       "\n",
       "    .dataframe thead th {\n",
       "        text-align: right;\n",
       "    }\n",
       "</style>\n",
       "<table border=\"1\" class=\"dataframe\">\n",
       "  <thead>\n",
       "    <tr style=\"text-align: right;\">\n",
       "      <th></th>\n",
       "      <th>user</th>\n",
       "      <th>m1</th>\n",
       "      <th>m5</th>\n",
       "    </tr>\n",
       "  </thead>\n",
       "  <tbody>\n",
       "    <tr>\n",
       "      <th>0</th>\n",
       "      <td>ActiveUser</td>\n",
       "      <td>4.5</td>\n",
       "      <td>7.6</td>\n",
       "    </tr>\n",
       "  </tbody>\n",
       "</table>\n",
       "</div>"
      ],
      "text/plain": [
       "         user   m1   m5\n",
       "0  ActiveUser  4.5  7.6"
      ]
     },
     "execution_count": 13,
     "metadata": {},
     "output_type": "execute_result"
    }
   ],
   "source": [
    "# Now we need to normalize since m1 is rated by 3 users while m5 is rated by 2 users.\n",
    "# Normalization: sum of ratings / sum of similarities\n",
    "\n",
    "m1_recommend = round(8.9 / 2, 1)\n",
    "m5_recommend = round(12.1 / 1.6, 1)\n",
    "\n",
    "recommendation_matrix =  pd.DataFrame({\"user\": [\"ActiveUser\"], \"m1\": [m1_recommend], \"m5\": [m5_recommend]})\n",
    "recommendation_matrix"
   ]
  },
  {
   "cell_type": "markdown",
   "metadata": {},
   "source": [
    "### Item-based Filtering\n",
    "- Looks for similarity in items, not users. \n",
    "    - SO, Does not try to compare every choice of user to calculate similarity between users\n",
    "- Assume users u1, u2 and u3 \n",
    "- u1 and u2 likes movies m1 and m3\n",
    "- If u3 likes m3 and m4, the system will recommend m1 to u3.\n",
    "    - \"People who liked m3 also liked m1\", says Netflix."
   ]
  },
  {
   "cell_type": "markdown",
   "metadata": {},
   "source": [
    "### Challenges of Collaborative Filtering\n",
    "\n",
    "#### Data Sparsity\n",
    "- When users rate only a limited number of items\n",
    "- If there are insufficient number of rated items, how can we \n",
    "\n",
    "#### Cold start\n",
    "- How to recommend something to new users?\n",
    "- How to recommend a new item which hasn't received rating?\n",
    "\n",
    "#### Scalability\n",
    "- Increase in number number of users or items\n",
    "- Results in poor performance due to growth and similarity calculation "
   ]
  }
 ],
 "metadata": {
  "kernelspec": {
   "display_name": "Python 3",
   "language": "python",
   "name": "python3"
  },
  "language_info": {
   "codemirror_mode": {
    "name": "ipython",
    "version": 3
   },
   "file_extension": ".py",
   "mimetype": "text/x-python",
   "name": "python",
   "nbconvert_exporter": "python",
   "pygments_lexer": "ipython3",
   "version": "3.7.3"
  }
 },
 "nbformat": 4,
 "nbformat_minor": 2
}
