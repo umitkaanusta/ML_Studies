{
 "cells": [
  {
   "cell_type": "markdown",
   "metadata": {},
   "source": [
    "## Multiple Linear Regression\n",
    "\n",
    "### Predicting a dependent variable, using multiple independent variables\n",
    "\n",
    "### Y = Theta0 + Theta1x1 + Theta2x2 + ... + ThetaNxN \n",
    "### OR: Y = np.dot(np.transpose(Theta), X)\n",
    "\n",
    "#### Use case: Identifying the strength of independent variables' effectiveness\n",
    "- Does revision time, test anxiety, lecture attendance and gender have any effect on the exam performance?\n",
    "\n",
    "#### Use case: Predicting impacts of changes\n",
    "- How much does blood pressure change for every unit increase in the BMI of a patient?"
   ]
  },
  {
   "cell_type": "markdown",
   "metadata": {},
   "source": [
    "#### The objective of the Multiple Linear Regression is to minimize the MSE (Mean Squared Error) equation, by finding the \"right\" theta values. \n",
    "\n",
    "### How to estimate Theta?\n",
    "\n",
    "#### Ordinary Least Squares\n",
    "- Uses the data as a matrix and performs Linear Algebra Operations\n",
    "- Takes a long time for large data sets(10K+ rows)\n",
    "\n",
    "#### Gradient Descent Optimization\n",
    "- Iteratively minimizing the error of the model\n",
    "- Proper approach if we have a large data set"
   ]
  },
  {
   "cell_type": "markdown",
   "metadata": {},
   "source": [
    "### Making Predictions \n",
    "- Y = np.dot(np.transpose(Theta), X)\n",
    "- np.transpose(Theta) = [125, 6.2, 14]\n",
    "- X = [1, x1, x2]\n",
    "- Then Y = 125 + (6.2)x1 + 14x2"
   ]
  },
  {
   "cell_type": "markdown",
   "metadata": {},
   "source": [
    "### When to use Multiple Linear Regression?\n",
    "- Does adding more independent variables increase the accuracy?\n",
    "- Adding too many independent variables just for the sake of accuracy may cause overfitting\n",
    "- Categorical independent variables can be incorporated into a regression model by converting them into numerical values, such as using 0 for manual cars and using 1 for automatic cars.\n",
    "- There should be a linear relationship between any x and y to use \"Linear\" regression"
   ]
  },
  {
   "cell_type": "code",
   "execution_count": null,
   "metadata": {},
   "outputs": [],
   "source": []
  }
 ],
 "metadata": {
  "kernelspec": {
   "display_name": "Python 3",
   "language": "python",
   "name": "python3"
  },
  "language_info": {
   "codemirror_mode": {
    "name": "ipython",
    "version": 3
   },
   "file_extension": ".py",
   "mimetype": "text/x-python",
   "name": "python",
   "nbconvert_exporter": "python",
   "pygments_lexer": "ipython3",
   "version": "3.7.3"
  }
 },
 "nbformat": 4,
 "nbformat_minor": 2
}
