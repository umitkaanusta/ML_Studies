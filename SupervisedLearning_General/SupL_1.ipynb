{
 "cells": [
  {
   "cell_type": "markdown",
   "metadata": {},
   "source": [
    "# Cross-Validation and Regularization\n",
    "\n",
    "#### Why CV?\n",
    "- Model performance won't be dependent on the way the data is split.\n",
    "- Represents the model's ability to generalize\n",
    "- Split to K folds, one of the folds is the test set and the rest is the train set. **Iteratively do it for each fold.**\n",
    "- Using more folds is of course computationally expensive\n",
    "- cross_val_score(model, X, y, cv=5) -- cv is the number of folds here"
   ]
  },
  {
   "cell_type": "markdown",
   "metadata": {},
   "source": [
    "## Regularized Regression\n",
    "\n",
    "- Linear regression chooses a coefficient for each feature, iteratively minimizing the loss function\n",
    "- Large coefficients can lead to overfitting\n",
    "- For datasets with larger number of features, we need to penalize large coefficients so that the machine sees large coefs as something to avoid.\n",
    "\n",
    "### Ridge Regression\n",
    "\n",
    "- Loss function = OLS loss function + **alpha** * sum of all thetas squared\n",
    "- By that way, large positive or large negative coefficients cause an increase in the loss function.\n",
    "- **Alpha is a parameter we need to choose, just like how we pick k in KNN.**\n",
    "    - (Alpha is also called lambda)\n",
    "- Alpha = 0 yields the OLS, can lead to overfitting\n",
    "- Very high Alpha yields to underfitting\n",
    "- Ridge(alpha=0.1, normalize=True) : The normalization here ensures that all our variables are on the same scale\n",
    "\n",
    "### Lasso Regression\n",
    "\n",
    "- Loss function = OLS loss function + **alpha** * sum of the abs of all thetas\n",
    "- Can be used for feature selection, since **it shrinks the coefficients of less important features to 0.**\n",
    "- Plotting this makes the feature selection way easy:\n",
    "    - Lasso(alpha=0.1).fit(X, y).coef_"
   ]
  }
 ],
 "metadata": {
  "kernelspec": {
   "display_name": "Python 3",
   "language": "python",
   "name": "python3"
  },
  "language_info": {
   "codemirror_mode": {
    "name": "ipython",
    "version": 3
   },
   "file_extension": ".py",
   "mimetype": "text/x-python",
   "name": "python",
   "nbconvert_exporter": "python",
   "pygments_lexer": "ipython3",
   "version": "3.7.3"
  }
 },
 "nbformat": 4,
 "nbformat_minor": 2
}
