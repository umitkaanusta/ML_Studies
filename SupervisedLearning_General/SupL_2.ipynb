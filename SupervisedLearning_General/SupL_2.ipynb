{
 "cells": [
  {
   "cell_type": "markdown",
   "metadata": {},
   "source": [
    "# ROC/AUC and Hyperparameter Tuning\n",
    "\n",
    "## The ROC Curve\n",
    "- By default, the threshold in Logistic Regression is 0.5. Which means, anything that passes the threshold is classified as 1.\n",
    "- The set of point we get when trying all possible thresholds is called **ROC Curve**\n",
    "![roc_img](roc.PNG)\n"
   ]
  },
  {
   "cell_type": "code",
   "execution_count": null,
   "metadata": {},
   "outputs": [],
   "source": [
    "## Plotting the ROC Curve ##\n",
    "from sklearn.metrics import roc_curve\n",
    "\n",
    "y_pred_prob = logreg.predict_proba(X_test)[:, 1]\n",
    "fpr, tpr, thresholds = roc_curve(y_test, y_pred_prob)\n",
    "# fpr: False Positive rate\n",
    "# tpr: True Positive rate\n",
    "\n",
    "plt.plot([0,1], [0,1], \"k--\")\n",
    "plt.plot(fpr, tpr)"
   ]
  },
  {
   "cell_type": "markdown",
   "metadata": {},
   "source": [
    "## Area Under the ROC Curve: AUC\n",
    "\n",
    "- Knowing that the thing we want is getting closer to upper-left corner (Full TPs and no FPs),\n",
    "     - We can say that the greater is the AUC, the better is the model.\n",
    "- We can calculate AUC by **importing roc_auc_score from sklearn.metrics**\n",
    "- **OR** We can calculate it in Cross Validation, by doing **scoring=\"roc_auc\"**"
   ]
  },
  {
   "cell_type": "markdown",
   "metadata": {},
   "source": [
    "## Hyperparameter Tuning\n",
    "\n",
    "- In many occasions we need to choose parameters, such as choosing k in KNN or choosing alpha in Ridge/Lasso Regression.\n",
    "- Sadly, Hyperparameters can't be learned by a model\n",
    "- **The best way is trying many values iteratively**\n",
    "- It's essential to use cross validation\n",
    "\n",
    "### Grid Search Cross Validation\n",
    "- Assume we have two parameters Alpha and C:\n",
    "    - Possible values for C = [0.1, 0.2, 0.3, 0.4]\n",
    "    - Possible values for Alpha = [0.1, 0.2, 0.3]\n",
    "    - If we make grids for each combination, we're gonna have 12 different combinations to be tried.\n",
    "- We perform K-fold Cross Validation for each point in the grid.\n",
    "- After that, we choose the combination with the best score."
   ]
  },
  {
   "cell_type": "code",
   "execution_count": null,
   "metadata": {},
   "outputs": [],
   "source": [
    "from sklearn.model_selection import GridSearchCV\n",
    "\n",
    "param_grid = {\"n_neighbors\": np.arange(1, 50)}\n",
    "\n",
    "knn = KNeighborsClassifier()\n",
    "knn_cv = GridSearchCV(knn, param_grid, cv=5)\n",
    "\n",
    "# After getting a GridSearchCV object, fit the data\n",
    "knn_cv.fit(X, y)\n",
    "knn_cv.best_params_  # Returns the best combination\n",
    "knn_cv.best_score_   # Returns the best score"
   ]
  },
  {
   "cell_type": "markdown",
   "metadata": {},
   "source": [
    "#### Hold-out Set Reasoning\n",
    "- We need to see how well the model performs on never before seen data.\n",
    "- So, using ALL data for CV is not ideal.\n",
    "- Split data into training and hold-out set in the beginning\n",
    "- Then perform GridSearchCV\n",
    "- Choose best hyperparameters and evaluate on hold-out set"
   ]
  }
 ],
 "metadata": {
  "kernelspec": {
   "display_name": "Python 3",
   "language": "python",
   "name": "python3"
  },
  "language_info": {
   "codemirror_mode": {
    "name": "ipython",
    "version": 3
   },
   "file_extension": ".py",
   "mimetype": "text/x-python",
   "name": "python",
   "nbconvert_exporter": "python",
   "pygments_lexer": "ipython3",
   "version": "3.7.3"
  }
 },
 "nbformat": 4,
 "nbformat_minor": 2
}
