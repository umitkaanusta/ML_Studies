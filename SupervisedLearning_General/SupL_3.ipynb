{
 "cells": [
  {
   "cell_type": "markdown",
   "metadata": {},
   "source": [
    "# Preprocessing Data and Pipelines\n",
    "\n",
    "## Dealing with Categorical Features\n",
    "- Sklearn won't accept categorical features by default\n",
    "- We need to encode them as numbers\n",
    "- Dummy variables:\n",
    "    - Imagine that a dataframe cars has a column Origin (Asia, US, Europe)\n",
    "    - Create three columns origin_Asia, origin_US, origin_Europe\n",
    "    - Then If the origin is Asia, origin_Asia should be 1; while others should be 0."
   ]
  },
  {
   "cell_type": "code",
   "execution_count": null,
   "metadata": {},
   "outputs": [],
   "source": [
    "## Dummy variables by pandas get_dummies() ##\n",
    "\n",
    "df = pd.read_csv(\"somecsvfile.csv\")\n",
    "df = pd.get_dummies(df, drop_first=True)\n",
    "# By making drop_first true, we get rid of duplicate information.\n",
    "# If we remove the column origin_Asia:\n",
    "    # origin_US and origin_Europe being zero will automatically indicate that the car is Asian"
   ]
  },
  {
   "cell_type": "markdown",
   "metadata": {},
   "source": [
    "## Imputing Missing Data\n",
    "- Making an educated guess about the missing values"
   ]
  },
  {
   "cell_type": "code",
   "execution_count": null,
   "metadata": {},
   "outputs": [],
   "source": [
    "from sklearn.preprocessing import Imputerr\n",
    "\n",
    "imp = Imputer(missing_values=\"NaN\", strategy=\"mean\", axis=0)\n",
    "# missing_values: Which data to impute?\n",
    "# strategy: How? (Should we impute with the mean etc.)\n",
    "# axis: 0 if column-wise, 1 if row-wise\n",
    "imp.fit(X)\n",
    "X = imp.transform(X)"
   ]
  },
  {
   "cell_type": "markdown",
   "metadata": {},
   "source": [
    "### Imputing within a Pipeline"
   ]
  },
  {
   "cell_type": "code",
   "execution_count": null,
   "metadata": {},
   "outputs": [],
   "source": [
    "from sklearn.pipeline import Pipeline\n",
    "\n",
    "imp = Imputer(missing_values=\"NaN\", strategy=\"mean\", axis=0)\n",
    "logreg = LogisticRegression()\n",
    "\n",
    "# A pipeline automatically fits the imputer and does the transformation\n",
    "pipeline = Pipeline([(\"imputation\", imp), (\"logistic_regression\", logreg)])\n",
    "pipeline.fit(X_train, y_train)\n",
    "y_pred = pipeline.predict(X_test)"
   ]
  },
  {
   "cell_type": "markdown",
   "metadata": {},
   "source": [
    "## Centering and Scaling (Normalization)\n",
    "\n",
    "### Why scale your data?\n",
    "- Many models use some form of distance\n",
    "- Features on larger scales can unduly influence your model\n",
    "- We want features to be on a similar scale\n",
    "\n",
    "### Ways to normalize your data\n",
    "- **Standardization:** Subtract the mean and divide by variance\n",
    "    - So that all features are centered around 0 and have variance 1.\n",
    "- Can also subtract the minimum and divide by the range\n",
    "- The range might be (0, 1) or (-1, 1)"
   ]
  },
  {
   "cell_type": "code",
   "execution_count": null,
   "metadata": {},
   "outputs": [],
   "source": [
    "from sklearn.preprocessing import scale, StandardScaler\n",
    "\n",
    "X_scaled = scale(X)\n",
    "\n",
    "# Scaling in a pipeline\n",
    "Pipeline = ([(\"scaler\", StandardScaler()), (\"knn\", KNeighborsClassifier())])"
   ]
  },
  {
   "cell_type": "markdown",
   "metadata": {},
   "source": [
    "## Using CV in a Pipeline"
   ]
  },
  {
   "cell_type": "code",
   "execution_count": null,
   "metadata": {},
   "outputs": [],
   "source": [
    "steps = [(\"scaler\", StandardScaler()), (\"knn\", KNeighborsClassifier())]\n",
    "\n",
    "pipeline = Pipeline(steps)\n",
    "parameters = {knn__n_neighbors: np.arange(1, 50)}  # Notice the two underscores after the model\n",
    "\n",
    "cv = GridSearchCV(pipeline, param_grid=parameters)\n",
    "cv.fit(X_train, y_train)\n",
    "y_pred = cv.predict(X_test)"
   ]
  }
 ],
 "metadata": {
  "kernelspec": {
   "display_name": "Python 3",
   "language": "python",
   "name": "python3"
  },
  "language_info": {
   "codemirror_mode": {
    "name": "ipython",
    "version": 3
   },
   "file_extension": ".py",
   "mimetype": "text/x-python",
   "name": "python",
   "nbconvert_exporter": "python",
   "pygments_lexer": "ipython3",
   "version": "3.7.3"
  }
 },
 "nbformat": 4,
 "nbformat_minor": 2
}
